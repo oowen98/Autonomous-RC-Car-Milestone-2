{
 "cells": [
  {
   "cell_type": "code",
   "execution_count": 6,
   "metadata": {},
   "outputs": [],
   "source": [
    "import cv2\n",
    "import numpy as np\n",
    "import pandas as pd\n",
    "import torch\n",
    "import sys\n",
    "\n",
    "from torchvision import datasets\n",
    "from torchvision import datasets, transforms\n",
    "from torch.utils.data.sampler import SubsetRandomSampler\n",
    "\n",
    "from PyTorch_NeuralNetwork import CNN1"
   ]
  },
  {
   "cell_type": "code",
   "execution_count": 7,
   "metadata": {},
   "outputs": [],
   "source": [
    "def frame_processing(frame):\n",
    "    resize = transforms.Resize((224,224))\n",
    "    color = transforms.ColorJitter(0.1,0.1,0.1,0.1)\n",
    "    to_tensor = transforms.ToTensor()\n",
    "    \n",
    "    frame_resize = resize(frame)\n",
    "    frame_color = color(frame_resize)\n",
    "    img_tensor = to_tensor(frame_color)\n",
    "    \n",
    "    "
   ]
  },
  {
   "cell_type": "code",
   "execution_count": 8,
   "metadata": {},
   "outputs": [
    {
     "data": {
      "text/plain": [
       "CNN1(\n",
       "  (conv1): Conv2d(3, 64, kernel_size=(5, 5), stride=(2, 2), padding=(1, 1))\n",
       "  (conv2): Conv2d(64, 128, kernel_size=(5, 5), stride=(2, 2), padding=(1, 1))\n",
       "  (conv3): Conv2d(128, 256, kernel_size=(5, 5), stride=(1, 1), padding=(1, 1))\n",
       "  (conv4): Conv2d(256, 512, kernel_size=(3, 3), stride=(1, 1), padding=(1, 1))\n",
       "  (conv5): Conv2d(512, 512, kernel_size=(3, 3), stride=(1, 1), padding=(1, 1))\n",
       "  (pool): MaxPool2d(kernel_size=2, stride=2, padding=0, dilation=1, ceil_mode=False)\n",
       "  (flatten): Flatten()\n",
       "  (fc1): Linear(in_features=512, out_features=50, bias=True)\n",
       "  (fc2): Linear(in_features=50, out_features=2, bias=True)\n",
       "  (dropout): Dropout(p=0.1, inplace=False)\n",
       ")"
      ]
     },
     "execution_count": 8,
     "metadata": {},
     "output_type": "execute_result"
    }
   ],
   "source": [
    "model = CNN1()\n",
    "model.eval()\n",
    "model.load_state_dict(torch.load('Autonomous_RC_Car2.pt')) #Load Model\n",
    "\n",
    "device = torch.device('cuda')\n",
    "model.to(device)\n",
    "\n"
   ]
  },
  {
   "cell_type": "code",
   "execution_count": 11,
   "metadata": {},
   "outputs": [
    {
     "name": "stdout",
     "output_type": "stream",
     "text": [
      "Failed to open video\n"
     ]
    }
   ],
   "source": [
    "#Import Video\n",
    "\n",
    "VideoPath = 'C:/Users/Owen/Desktop/Projects/Autonomous RC Car/Perception/SingleLane_July20.mp4'\n",
    "cap = cv2.VideoCapture(VideoPath)\n",
    "frame_cnt = 0\n",
    "\n",
    "while True:\n",
    "    frame_cnt += 1\n",
    "    if cap.get(cv2.CAP_PROP_FRAME_COUNT) == 60:\n",
    "        cap.set(cv2.CAP_PROP_POS_FRAMES,0)\n",
    "        break\n",
    "        cap.release()\n",
    "        cv2.destroyAllWindows()\n",
    "        frame_cnt = 0\n",
    "        \n",
    "        \n",
    "    success, frame = cap.read()\n",
    "    if(success == 0):\n",
    "        print(\"Failed to open video\")\n",
    "        break\n",
    "        \n",
    "    if cv2.waitKey(1) & 0xFF == ord('q'):\n",
    "        break\n",
    "        cap.release()\n",
    "        cv2.destroyAllWindows()"
   ]
  },
  {
   "cell_type": "code",
   "execution_count": null,
   "metadata": {},
   "outputs": [],
   "source": []
  }
 ],
 "metadata": {
  "kernelspec": {
   "display_name": "Python 3",
   "language": "python",
   "name": "python3"
  },
  "language_info": {
   "codemirror_mode": {
    "name": "ipython",
    "version": 3
   },
   "file_extension": ".py",
   "mimetype": "text/x-python",
   "name": "python",
   "nbconvert_exporter": "python",
   "pygments_lexer": "ipython3",
   "version": "3.8.2"
  }
 },
 "nbformat": 4,
 "nbformat_minor": 4
}
