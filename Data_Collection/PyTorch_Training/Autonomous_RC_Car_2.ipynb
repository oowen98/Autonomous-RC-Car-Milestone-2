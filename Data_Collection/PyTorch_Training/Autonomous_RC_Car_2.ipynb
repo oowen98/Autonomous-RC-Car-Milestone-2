{
 "cells": [
  {
   "cell_type": "code",
   "execution_count": 1,
   "metadata": {},
   "outputs": [],
   "source": [
    "#Importing modules\n",
    "\n",
    "from torchvision import datasets\n",
    "from torchvision import datasets, transforms\n",
    "from torch.utils.data.sampler import SubsetRandomSampler\n",
    "from PIL import Image\n",
    "from matplotlib import pyplot as plt\n",
    "from torch.utils.tensorboard import SummaryWriter\n",
    "\n",
    "import torchvision\n",
    "import torch.nn as nn\n",
    "import torch.nn.functional as F\n",
    "import torch.optim as optim\n",
    "\n",
    "import numpy as np\n",
    "import pandas as pd\n",
    "import torch\n",
    "import sys"
   ]
  },
  {
   "cell_type": "code",
   "execution_count": 2,
   "metadata": {},
   "outputs": [],
   "source": [
    "class CustomDataset():\n",
    "    def __init__(self, csv_file, img_path):\n",
    "        #Transforms\n",
    "        self.resize = transforms.Resize((224,224))\n",
    "        self.color = transforms.ColorJitter(0.1,0.1,0.1,0.1)\n",
    "        self.to_tensor = transforms.ToTensor()\n",
    "        self.normalize = transforms.Normalize([0.485, 0.456, 0.406], [0.229, 0.224, 0.225])\n",
    "\n",
    "        #Reading csv File\n",
    "        self.csv_data = pd.read_csv(csv_file)\n",
    "        self.img_name_arr = np.asarray(self.csv_data.iloc[:,1]) #2nd column contains names of the images\n",
    "        self.throttle_label_arr = np.asarray(self.csv_data.iloc[:,3]) #3rd column is Throttle data\n",
    "        self.steering_label_arr = np.asarray(self.csv_data.iloc[:,4]) #4th column is Steering data\n",
    "        \n",
    "        self.label_arr = np.asarray([self.csv_data.iloc[:,3], self.csv_data.iloc[:,4]])\n",
    "        self.data_length = len(self.csv_data.index)\n",
    "\n",
    "    def __getitem__(self, index):\n",
    "        img_name = self.img_name_arr[index] #Getting individual image name\n",
    "        img = Image.open(img_path + str(img_name)) #Opening image\n",
    "\n",
    "        #image transformations to tensor\n",
    "        img_resize = self.resize(img)\n",
    "        img_color = self.color(img_resize)\n",
    "        img_tensor = self.to_tensor(img_color)\n",
    "        img_normalized = self.normalize(img_tensor)\n",
    "\n",
    "        throttle_label = self.throttle_label_arr[index]\n",
    "        steering_label = self.steering_label_arr[index]\n",
    "        img_label = self.label_arr[:,index]\n",
    "        \n",
    "        return (img_tensor, img_label)\n",
    "\n",
    "    def __len__(self):\n",
    "        return self.data_length"
   ]
  },
  {
   "cell_type": "code",
   "execution_count": 3,
   "metadata": {},
   "outputs": [
    {
     "name": "stdout",
     "output_type": "stream",
     "text": [
      "GPU is available, training on GPU\n"
     ]
    }
   ],
   "source": [
    "gpu_avail = torch.cuda.is_available()\n",
    "if(gpu_avail):\n",
    "    print(\"GPU is available, training on GPU\")\n",
    "    device = torch.device('cuda')\n",
    "else:\n",
    "    print(\"GPU is not available, training on CPU\")\n",
    "    device = torch.device('cpu')\n",
    "    \n",
    "\n",
    "torch.cuda.empty_cache()"
   ]
  },
  {
   "cell_type": "code",
   "execution_count": 15,
   "metadata": {},
   "outputs": [
    {
     "name": "stdout",
     "output_type": "stream",
     "text": [
      "(2, 4527)\n"
     ]
    }
   ],
   "source": [
    "#Choose csv file location depending on if we are training on Jetson or Laptop\n",
    "csv_file = 'C:/Users/Owen/Desktop/Projects/Autonomous RC Car/Data_Collection/Aug9_DataCollection4/Aug9_DataCollection4.csv' \n",
    "#csv_file = '/home/dlinano/Desktop/Autonomous-RC-Car-Milestone-2/Data_Collection/Aug6_DataCollection/Aug6_DataCollection.csv'\n",
    "\n",
    "img_path = 'C:/Users/Owen/Desktop/Projects/Autonomous RC Car/Data_Collection/Aug9_DataCollection4/'\n",
    "\n",
    "dataset = CustomDataset(csv_file, img_path)\n",
    "print(dataset.label_arr.shape)\n",
    "#img, label = dataset.__getitem__(3)\n",
    "#print(label)"
   ]
  },
  {
   "cell_type": "code",
   "execution_count": 16,
   "metadata": {},
   "outputs": [
    {
     "name": "stdout",
     "output_type": "stream",
     "text": [
      "4527\n",
      "3622\n",
      "905\n",
      "4527\n",
      "4527\n"
     ]
    }
   ],
   "source": [
    "#Generate Training and Validation Datsets\n",
    "\n",
    "batch_size = 64\n",
    "random_seed = 42 #To ensure indices are always the same when shuffled below\n",
    "validation_split = 0.2\n",
    "shuffle_dataset = False\n",
    "\n",
    "#Creating the data indices for training and validation sets\n",
    "dataset_size = len(dataset) #Total number of samples\n",
    "print(dataset_size)\n",
    "indices = list(range(dataset_size)) \n",
    "#print(indices) #Check that correct number of samples\n",
    "split = int(np.floor(validation_split * dataset_size))\n",
    "\n",
    "if shuffle_dataset == True:\n",
    "    np.random.seed(random_seed)\n",
    "    np.random.shuffle(indices) #indices have now been shuffled\n",
    "\n",
    "training_indices, validation_indices = indices[split:], indices[:split]\n",
    "\n",
    "#Creating data samplers and loaders\n",
    "training_sampler = SubsetRandomSampler(training_indices)\n",
    "validation_sampler = SubsetRandomSampler(validation_indices)\n",
    "\n",
    "training_loader = torch.utils.data.DataLoader(dataset, batch_size=batch_size, sampler=training_sampler)\n",
    "validation_loader = torch.utils.data.DataLoader(dataset, batch_size=batch_size, sampler=validation_sampler)\n",
    "\n",
    "#len(validation_loader.dataset)\n",
    "print(len(training_sampler))\n",
    "print(len(validation_sampler))\n",
    "print(len(training_loader.dataset)) # length of training sampler / batch_size\n",
    "print(len(validation_loader.dataset)) #How many batches there in the training loader"
   ]
  },
  {
   "cell_type": "code",
   "execution_count": 17,
   "metadata": {},
   "outputs": [],
   "source": [
    "#PyTorch Neural Network\n",
    "\n",
    "\n",
    "class Net(nn.Module):\n",
    "    def __init__(self):\n",
    "        super().__init__() #Input = 3,224,224\n",
    "        self.conv1 = nn.Conv2d(3, 16, kernel_size = 5, padding = 2) #112\n",
    "        self.conv2 = nn.Conv2d(16, 32, kernel_size = 5, padding = 2) #56\n",
    "        self.conv3 = nn.Conv2d(32, 64, kernel_size = 5, padding = 2) #28\n",
    "        self.conv4 = nn.Conv2d(64, 64, kernel_size = 3, stride = 2, padding = 1) #7\n",
    "        self.pool = nn.MaxPool2d(2,2)\n",
    "        self.flatten = nn.Flatten()\n",
    "        self.fc1 = nn.Linear(7*7*64, 1000)\n",
    "        self.fc2 = nn.Linear(1000,300)\n",
    "        self.fc3 = nn.Linear(300,50)\n",
    "        self.fc4 = nn.Linear(50,2)\n",
    "        self.dropout = nn.Dropout(0.1)\n",
    "        \n",
    "        \n",
    "    def forward(self,x):\n",
    "        x = self.pool(F.relu(self.conv1(x))) \n",
    "        x = self.pool(F.relu(self.conv2(x))) \n",
    "        x = self.pool(F.relu(self.conv3(x))) \n",
    "        x = self.pool(F.relu(self.conv4(x))) \n",
    "        x = self.flatten(x)\n",
    "        x = self.dropout(x)\n",
    "        x = F.relu(self.fc1(x))\n",
    "        x = self.dropout(x)\n",
    "        x = self.fc2(x)\n",
    "        x = self.dropout(x)\n",
    "        x = self.fc3(x)\n",
    "        x = self.dropout(x)\n",
    "        x = self.fc4(x)\n",
    "        \n",
    "        return x"
   ]
  },
  {
   "cell_type": "code",
   "execution_count": 18,
   "metadata": {},
   "outputs": [],
   "source": [
    "class Net2(nn.Module):\n",
    "    def __init__(self):\n",
    "        super(Net2, self).__init__()\n",
    "        # convolutional layer (sees 224x224x3 image tensor)\n",
    "        self.flatten = nn.Flatten()\n",
    "        self.conv1 = nn.Conv2d(3, 24, 5, stride=2, padding=1)\n",
    "        self.conv2 = nn.Conv2d(24, 32, 5, stride=2, padding=1)\n",
    "        self.conv3 = nn.Conv2d(32, 64, 5, stride=2, padding=1)\n",
    "        self.conv4 = nn.Conv2d(64, 64, 3, stride=2, padding=1)\n",
    "        self.conv5 = nn.Conv2d(64, 64, 3, stride=1, padding=1)\n",
    "        self.pool = nn.MaxPool2d(2, 2)\n",
    "        self.fc1 = nn.Linear(64, 50)\n",
    "        self.fc2 = nn.Linear(50, 2)\n",
    "        self.dropout = nn.Dropout(0.1)\n",
    "\n",
    "    def forward(self, x):\n",
    "        # add sequence of convolutional and max pooling layers\n",
    "        x = self.pool(F.relu(self.conv1(x)))\n",
    "        x = self.pool(F.relu(self.conv2(x)))\n",
    "        x = self.pool(F.relu(self.conv3(x)))\n",
    "        x = self.pool(F.relu(self.conv4(x)))\n",
    "        #x = self.pool(F.relu(self.conv5(x)))\n",
    "        # flatten image input\n",
    "        x = self.flatten(x)\n",
    "        x = self.dropout(x)\n",
    "        x = F.relu(self.fc1(x))\n",
    "        x = self.dropout(x)\n",
    "        x = self.fc2(x)\n",
    "        return x"
   ]
  },
  {
   "cell_type": "code",
   "execution_count": 19,
   "metadata": {},
   "outputs": [],
   "source": [
    "class CNN1(nn.Module):\n",
    "    def __init__(self):\n",
    "        super(CNN1, self).__init__()\n",
    "        #conv layer sees 224x224x3 image tensor\n",
    "        self.conv1 = nn.Conv2d(in_channels=3, out_channels=64, kernel_size=5, stride=2, padding=1)\n",
    "        self.conv2 = nn.Conv2d(in_channels=64, out_channels=128, kernel_size=5, stride=2, padding=1)\n",
    "        self.conv3 = nn.Conv2d(in_channels=128, out_channels=256, kernel_size=5, stride=1, padding=1)\n",
    "        self.conv4 = nn.Conv2d(in_channels=256, out_channels=512, kernel_size=3, stride=1, padding=1)\n",
    "        self.conv5 = nn.Conv2d(in_channels=512, out_channels=512, kernel_size=3, stride=1, padding=1)\n",
    "        self.pool = nn.MaxPool2d(2,2)\n",
    "        self.flatten = nn.Flatten()\n",
    "        self.fc1 = nn.Linear(512,50)\n",
    "        self.fc2 = nn.Linear(50,2)\n",
    "        self.dropout = nn.Dropout(0.1)\n",
    "        \n",
    "    def forward(self, x):\n",
    "        #print(x.shape)\n",
    "        x = self.pool(F.relu(self.conv1(x)))\n",
    "        #print(x.shape)\n",
    "        x = self.pool(F.relu(self.conv2(x)))\n",
    "        #print(x.shape)\n",
    "        x = self.pool(F.relu(self.conv3(x)))\n",
    "        #print(x.shape)\n",
    "        x = self.pool(F.relu(self.conv4(x)))\n",
    "        #print(x.shape)\n",
    "        x = self.pool(F.relu(self.conv5(x)))\n",
    "        #print(x.shape)\n",
    "            \n",
    "        x = self.flatten(x)\n",
    "        #print(x.shape)\n",
    "        x = self.dropout(x)\n",
    "        #print(x.shape)\n",
    "        x = F.relu(self.fc1(x))\n",
    "        #print(x.shape)\n",
    "        x = self.dropout(x)\n",
    "        #print(x.shape)\n",
    "        x = self.fc2(x)\n",
    "        #print(x.shape)\n",
    "        \n",
    "        return x"
   ]
  },
  {
   "cell_type": "code",
   "execution_count": 20,
   "metadata": {},
   "outputs": [],
   "source": [
    "tb = SummaryWriter('runs/Autonomous_RC_Car_Training_1')\n",
    "\n",
    "network =CNN1() #Create instance of network\n",
    "images, labels = next(iter(training_loader))\n",
    "grid = torchvision.utils.make_grid(images)\n",
    "\n",
    "tb.add_image('Track Images', grid)\n",
    "tb.add_graph(network, images)\n",
    "tb.close()\n"
   ]
  },
  {
   "cell_type": "code",
   "execution_count": 21,
   "metadata": {},
   "outputs": [],
   "source": [
    "def get_num_correct(outputs, labels):\n",
    "    return outputs.argmax(dim=1).eq(labels).sum().item()"
   ]
  },
  {
   "cell_type": "code",
   "execution_count": 28,
   "metadata": {},
   "outputs": [],
   "source": [
    "#Training\n",
    "\n",
    "import datetime\n",
    "\n",
    "def training_loop(n_epochs, optimizer, model, loss_fn, train_loader):\n",
    "    training_loss_min = np.Inf\n",
    "    for epoch in range(1, n_epochs + 1):\n",
    "        training_loss = 0.0\n",
    "        total_correct = 0.0\n",
    "        validation_loss = 0.0\n",
    "        \n",
    "        model.train() #Training the model\n",
    "        for imgs, labels in train_loader:\n",
    "            if torch.cuda.is_available():\n",
    "                imgs, labels = imgs.cuda(), labels.cuda()\n",
    "            outputs = model(imgs)\n",
    "            \n",
    "            loss = loss_fn(outputs, labels.float())\n",
    "            \n",
    "            optimizer.zero_grad()\n",
    "            \n",
    "            loss.backward()\n",
    "            \n",
    "            optimizer.step()\n",
    "            \n",
    "            training_loss += loss.item()\n",
    "            #total_correct += get_num_correct(outputs, labels)\n",
    "        '''\n",
    "        model.eval() #Evaluating the model\n",
    "        for imgs, labels in validation_loader:\n",
    "            if torch.cuda.is_available():\n",
    "                imgs, labels = imgs.cuda(), labels.cuda()\n",
    "            outputs = model(imgs)\n",
    "            loss = loss_fn(outputs, labels.float())\n",
    "            validation_loss += loss.item()\n",
    "        '''    \n",
    "        training_loss = training_loss / len(train_loader)   \n",
    "        #validation_loss = validation_loss / len(validation_loss)\n",
    "        #print(training_loss)\n",
    "        print('{} Epoch {}, Training Loss {}'.format(datetime.datetime.now(), epoch, \n",
    "                                                        training_loss))\n",
    "              \n",
    "        if training_loss <= training_loss_min:\n",
    "            print('Training loss decreased ({:.6f} --> {:.6f}).  Saving model ...'.format(\n",
    "            training_loss_min,\n",
    "            training_loss))\n",
    "            torch.save(model.state_dict(), 'Autonomous_RC_Car_Net2_5.pt')\n",
    "            training_loss_min = training_loss\n",
    "            \n",
    "        tb.add_scalar('Loss', training_loss, epoch)\n",
    "        \n",
    "        #tb.add_histogram('conv1.bias', model.conv1.bias, epoch)\n",
    "        #tb.add_histogram('conv1.weight', model.conv1.weight, epoch)\n",
    "        #tb.add_histogram('conv1.weight.grad',network.conv1.weight.grad,epoch)\n"
   ]
  },
  {
   "cell_type": "code",
   "execution_count": 29,
   "metadata": {},
   "outputs": [],
   "source": [
    "#Validation\n",
    "\n",
    "def validation_loop(n_epochs, model, loss_fn, validation_loader):\n",
    "    validation_loss_min = np.Inf\n",
    "    with torch.no_grad():\n",
    "        for epoch in range(1, n_epochs+1):\n",
    "            validation_loss = 0.0\n",
    "\n",
    "            model.eval()\n",
    "            for imgs, labels in validation_loader:\n",
    "                if torch.cuda.is_available():\n",
    "                    imgs, labels = imgs.cuda(), labels.cuda()\n",
    "                outputs = model(imgs)\n",
    "                loss = loss_fn(outputs, labels.float())\n",
    "                validation_loss += loss.item()\n",
    "\n",
    "            print('Validaiton Loss: {}'.format(validation_loss / len(validation_loader)))"
   ]
  },
  {
   "cell_type": "code",
   "execution_count": 30,
   "metadata": {},
   "outputs": [],
   "source": [
    "model = Net2()\n",
    "\n",
    "optimizer = optim.Adam(model.parameters(), lr=1e-2)\n",
    "loss_fn = nn.MSELoss()\n",
    "\n",
    "validation_loss_min = np.Inf\n",
    "training_loss_min = np.Inf\n",
    "if gpu_avail:\n",
    "    model.cuda()"
   ]
  },
  {
   "cell_type": "code",
   "execution_count": 31,
   "metadata": {},
   "outputs": [
    {
     "name": "stdout",
     "output_type": "stream",
     "text": [
      "2020-08-11 23:09:07.348827 Epoch 1, Training Loss 0.14298325855480998\n",
      "Training loss decreased (inf --> 0.142983).  Saving model ...\n",
      "2020-08-11 23:10:03.882783 Epoch 2, Training Loss 0.03187195946903605\n",
      "Training loss decreased (0.142983 --> 0.031872).  Saving model ...\n",
      "2020-08-11 23:10:57.787581 Epoch 3, Training Loss 0.022637145691796354\n",
      "Training loss decreased (0.031872 --> 0.022637).  Saving model ...\n",
      "2020-08-11 23:11:50.900912 Epoch 4, Training Loss 0.01436972299492673\n",
      "Training loss decreased (0.022637 --> 0.014370).  Saving model ...\n",
      "2020-08-11 23:12:49.498600 Epoch 5, Training Loss 0.01109750531287047\n",
      "Training loss decreased (0.014370 --> 0.011098).  Saving model ...\n",
      "2020-08-11 23:13:45.085635 Epoch 6, Training Loss 0.00932532520311182\n",
      "Training loss decreased (0.011098 --> 0.009325).  Saving model ...\n",
      "2020-08-11 23:14:52.482854 Epoch 7, Training Loss 0.008595341832883525\n",
      "Training loss decreased (0.009325 --> 0.008595).  Saving model ...\n",
      "2020-08-11 23:16:10.338839 Epoch 8, Training Loss 0.03576689039504057\n",
      "2020-08-11 23:17:23.460663 Epoch 9, Training Loss 0.02460272561170553\n",
      "2020-08-11 23:18:33.196201 Epoch 10, Training Loss 0.018165947248538334\n",
      "2020-08-11 23:19:38.865735 Epoch 11, Training Loss 0.015676253736672693\n",
      "2020-08-11 23:20:44.532971 Epoch 12, Training Loss 0.012195756805962637\n",
      "2020-08-11 23:21:49.193200 Epoch 13, Training Loss 0.010303579948907881\n",
      "2020-08-11 23:22:52.881861 Epoch 14, Training Loss 0.008542161124447981\n",
      "Training loss decreased (0.008595 --> 0.008542).  Saving model ...\n",
      "2020-08-11 23:23:55.711725 Epoch 15, Training Loss 0.00773950085338009\n",
      "Training loss decreased (0.008542 --> 0.007740).  Saving model ...\n"
     ]
    }
   ],
   "source": [
    "#Call Training Loop\n",
    "\n",
    "training_loop(\n",
    "            n_epochs = 15,\n",
    "            optimizer = optimizer,\n",
    "            model = model,\n",
    "            loss_fn = loss_fn,\n",
    "            train_loader = training_loader)\n",
    "\n"
   ]
  },
  {
   "cell_type": "code",
   "execution_count": 10,
   "metadata": {
    "collapsed": true
   },
   "outputs": [
    {
     "data": {
      "text/plain": [
       "<All keys matched successfully>"
      ]
     },
     "execution_count": 10,
     "metadata": {},
     "output_type": "execute_result"
    }
   ],
   "source": [
    "torch.cuda.empty_cache()\n",
    "#Load Model\n",
    "model.load_state_dict(torch.load('Autonomous_RC_Car2.pt'))"
   ]
  },
  {
   "cell_type": "code",
   "execution_count": null,
   "metadata": {},
   "outputs": [],
   "source": [
    "validation_loop(n_epochs = 10,\n",
    "            model = model,\n",
    "            loss_fn = loss_fn,\n",
    "            validation_loader = validation_loader)"
   ]
  },
  {
   "cell_type": "code",
   "execution_count": null,
   "metadata": {},
   "outputs": [],
   "source": [
    "#Load Model\n",
    "model.load_state_dict(torch.load('Autonomous_RC_Car2.pt'))"
   ]
  },
  {
   "cell_type": "code",
   "execution_count": 21,
   "metadata": {},
   "outputs": [
    {
     "data": {
      "image/png": "[encoded data removed]",
      "text/plain": [
       "<Figure size 432x288 with 1 Axes>"
      ]
     },
     "metadata": {
      "needs_background": "light"
     },
     "output_type": "display_data"
    },
    {
     "data": {
      "text/plain": [
       "(3, 224, 224)"
      ]
     },
     "execution_count": 21,
     "metadata": {},
     "output_type": "execute_result"
    }
   ],
   "source": [
    "#Testing\n",
    "single_image_name = img_path + 'Aug9_DataCollection_432.jpg'\n",
    "\n",
    "img_as_img = Image.open(str(single_image_name))\n",
    "\n",
    "resize = transforms.Resize((224,224))\n",
    "#self.center = transforms.CenterCrop(224)\n",
    "color = transforms.ColorJitter(0.1, 0.1, 0.1, 0.1)\n",
    "to_tensor = transforms.ToTensor()\n",
    "normalize = transforms.Normalize([0.485, 0.456, 0.406], [0.229, 0.224, 0.225])\n",
    "\n",
    "# Transform image to tensor\n",
    "img_resize = resize(img_as_img)\n",
    "img_color = color(img_resize)\n",
    "img_as_tensor = to_tensor(img_color)\n",
    "img_normalized = normalize(img_as_tensor)\n",
    "img_normalized.shape\n",
    "\n",
    "plt.imshow(img_normalized[0], interpolation='nearest')\n",
    "plt.show()\n",
    "\n",
    "test = np.append(img_as_tensor,[])\n",
    "test = test.reshape(3,224,224)\n",
    "test.shape\n",
    "\n"
   ]
  },
  {
   "cell_type": "code",
   "execution_count": 22,
   "metadata": {},
   "outputs": [
    {
     "name": "stdout",
     "output_type": "stream",
     "text": [
      "torch.Size([3, 224, 224])\n",
      "tensor([[0.5973, 0.7309]], device='cuda:0', grad_fn=<AddmmBackward>)\n"
     ]
    }
   ],
   "source": [
    "device = torch.device('cuda')\n",
    "test = torch.from_numpy(test)\n",
    "test = test.to(device)\n",
    "test = test.float()\n",
    "print(test.shape)\n",
    "test = test.unsqueeze(0)\n",
    "output = model(test)\n",
    "print(output)"
   ]
  },
  {
   "cell_type": "code",
   "execution_count": null,
   "metadata": {},
   "outputs": [],
   "source": []
  }
 ],
 "metadata": {
  "kernelspec": {
   "display_name": "Python 3",
   "language": "python",
   "name": "python3"
  },
  "language_info": {
   "codemirror_mode": {
    "name": "ipython",
    "version": 3
   },
   "file_extension": ".py",
   "mimetype": "text/x-python",
   "name": "python",
   "nbconvert_exporter": "python",
   "pygments_lexer": "ipython3",
   "version": "3.8.2"
  }
 },
 "nbformat": 4,
 "nbformat_minor": 4
}
